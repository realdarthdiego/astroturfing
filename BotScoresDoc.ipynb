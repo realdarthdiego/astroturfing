{
 "cells": [
  {
   "cell_type": "markdown",
   "id": "5f9e2bca-431b-47a4-8c6f-87577c562154",
   "metadata": {},
   "source": [
    "# Bot Check Check the followers count using bot score from BOT checker API"
   ]
  },
  {
   "cell_type": "markdown",
   "id": "4b73281f-45a9-4364-8b56-0ca02744ebeb",
   "metadata": {},
   "source": [
    "You need a rapid api key for [botometer](https://botometer.osome.iu.edu/) from https://botometer.osome.iu.edu/api\n",
    "You need also twitter API keys from https://developer.twitter.com with sufficient rights\n",
    "\n",
    "Create a file with your secrets called 'settings.json'\n",
    "\n",
    "```json\n",
    "{\n",
    "    \"rapidapi_key\" : \"xxxx\",\n",
    "    \"consumer_key\": \"xxxx\",\n",
    "    \"consumer_secret\": \"xxx\",\n",
    "    \"access_token\": \"xxx\",\n",
    "    \"access_token_secret\": \"xxx\"\n",
    "}\n",
    "```"
   ]
  },
  {
   "cell_type": "code",
   "execution_count": 22,
   "id": "1f668014-03e2-42a5-9355-1eb4a9473d10",
   "metadata": {},
   "outputs": [
    {
     "data": {
      "text/plain": [
       "'f7df5dd003msh63103b6bcfae27bp1d2a2djsn318d5a176f26'"
      ]
     },
     "execution_count": 22,
     "metadata": {},
     "output_type": "execute_result"
    }
   ],
   "source": [
    "import botometer\n",
    "import json\n",
    "\n",
    "\n",
    "with open(\"settings.json\") as file:\n",
    "        twitter_app_auth = json.load(file)\n",
    "\n",
    "rapidapikey = twitter_app_auth[\"rapidapi_key\"]\n",
    "twitter_app_auth.pop(\"rapidapi_key\")\n",
    "\n"
   ]
  },
  {
   "cell_type": "code",
   "execution_count": null,
   "id": "d361ea8d-f943-4471-a09f-79aa99e882db",
   "metadata": {},
   "outputs": [],
   "source": []
  },
  {
   "cell_type": "code",
   "execution_count": 25,
   "id": "abf85047-dc25-4482-9710-512185c4c82d",
   "metadata": {},
   "outputs": [
    {
     "name": "stdout",
     "output_type": "stream",
     "text": [
      "{'cap': {'english': 0.3912159239072283, 'universal': 0.5742686032713971}, 'display_scores': {'english': {'astroturf': 0.1, 'fake_follower': 1.1, 'financial': 0.0, 'other': 0.4, 'overall': 0.4, 'self_declared': 0.2, 'spammer': 0.0}, 'universal': {'astroturf': 0.1, 'fake_follower': 1.0, 'financial': 0.0, 'other': 0.4, 'overall': 0.6, 'self_declared': 0.0, 'spammer': 0.0}}, 'raw_scores': {'english': {'astroturf': 0.02, 'fake_follower': 0.22, 'financial': 0.0, 'other': 0.08, 'overall': 0.07, 'self_declared': 0.04, 'spammer': 0.01}, 'universal': {'astroturf': 0.02, 'fake_follower': 0.19, 'financial': 0.0, 'other': 0.08, 'overall': 0.13, 'self_declared': 0.0, 'spammer': 0.01}}, 'user': {'majority_lang': 'en', 'user_data': {'id_str': '1548959833', 'screen_name': 'clayadavis'}}}\n"
     ]
    }
   ],
   "source": [
    "bom = botometer.Botometer(wait_on_ratelimit=True,\n",
    "                          rapidapi_key=rapidapikey,\n",
    "                          **twitter_app_auth)\n",
    "\n",
    "# Check a single account by screen name\n",
    "result = bom.check_account('@clayadavis')\n",
    "\n",
    "# Check a single account by id\n",
    "result = bom.check_account(1548959833)\n",
    "\n",
    "print(result)\n",
    "\n",
    "# Check a sequence of accounts\n",
    "accounts = ['@clayadavis', '@onurvarol', '@jabawack']\n",
    "\n",
    "\n",
    "f = open(\"botscores.txt\", 'w')\n",
    "for screen_name, result in bom.check_accounts_in(accounts):\n",
    "    json_object = json.dumps(result) \n",
    "    if \"error\" not in result:\n",
    "        f.write(json_object + \"\\n\")\n",
    "f.close()\n"
   ]
  },
  {
   "cell_type": "code",
   "execution_count": null,
   "id": "18a39da8-a4ba-4dfa-992f-5cce46012276",
   "metadata": {},
   "outputs": [],
   "source": []
  }
 ],
 "metadata": {
  "kernelspec": {
   "display_name": "Python 3",
   "language": "python",
   "name": "python3"
  },
  "language_info": {
   "codemirror_mode": {
    "name": "ipython",
    "version": 3
   },
   "file_extension": ".py",
   "mimetype": "text/x-python",
   "name": "python",
   "nbconvert_exporter": "python",
   "pygments_lexer": "ipython3",
   "version": "3.7.8"
  }
 },
 "nbformat": 4,
 "nbformat_minor": 5
}
